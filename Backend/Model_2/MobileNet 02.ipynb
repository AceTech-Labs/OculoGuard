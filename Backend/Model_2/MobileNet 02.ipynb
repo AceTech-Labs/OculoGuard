{
 "cells": [
  {
   "cell_type": "code",
   "execution_count": null,
   "id": "62a6ce19",
   "metadata": {},
   "outputs": [],
   "source": [
    "import numpy as np\n",
    "np.random.seed(2017)\n",
    "\n",
    "import os\n",
    "import time\n",
    "from keras.preprocessing import image\n",
    "from keras.applications.imagenet_utils import preprocess_input\n",
    "from keras.layers import Input\n",
    "from keras.models import Model\n",
    "from keras.models import load_model\n",
    "import tkinter as tk\n",
    "from tkinter import filedialog\n",
    "\n",
    "import os\n",
    "import itertools\n",
    "import shutil\n",
    "import random\n",
    "\n",
    "import tensorflow as tf\n",
    "from tensorflow import keras\n",
    "from tensorflow.keras import backend as K\n",
    "from tensorflow.keras.layers import Dense, Activation,Reshape, Dropout\n",
    "from tensorflow.keras.optimizers import Adam\n",
    "from tensorflow.keras.metrics import categorical_crossentropy\n",
    "from tensorflow.keras.preprocessing.image import ImageDataGenerator\n",
    "from tensorflow.keras.preprocessing import image\n",
    "from tensorflow.keras.models import Model\n",
    "from tensorflow.keras.applications import imagenet_utils\n",
    "from tensorflow.keras.models import load_model\n",
    "\n",
    "from sklearn.metrics import confusion_matrix\n",
    "from sklearn.metrics import classification_report\n",
    "\n",
    "import numpy as np\n",
    "import pandas as pd \n",
    "from glob import glob\n",
    "import shutil\n",
    "import matplotlib.pyplot as plt\n",
    "%matplotlib inline\n",
    "import matplotlib.pyplot as plt\n",
    "print(tf.__version__)\n",
    "import cv2"
   ]
  },
  {
   "cell_type": "code",
   "execution_count": null,
   "id": "eda6a624",
   "metadata": {},
   "outputs": [],
   "source": [
    "def plot_confusion_matrix(cm, classes,\n",
    "                          normalize=False,\n",
    "                          title='Confusion matrix',\n",
    "                          cmap=plt.cm.Blues):\n",
    "    \"\"\"\n",
    "    This function prints and plots the confusion matrix.\n",
    "    Normalization can be applied by setting `normalize=True`.\n",
    "    \"\"\"\n",
    "    plt.imshow(cm, interpolation='nearest', cmap=cmap)\n",
    "    plt.title(title)\n",
    "    plt.colorbar()\n",
    "    tick_marks = np.arange(len(classes))\n",
    "    plt.xticks(tick_marks, classes, rotation=45)\n",
    "    plt.yticks(tick_marks, classes)\n",
    "\n",
    "    if normalize:\n",
    "        cm = cm.astype('float') / cm.sum(axis=1)[:, np.newaxis]\n",
    "        print(\"Normalized confusion matrix\")\n",
    "    else:\n",
    "        print('Confusion matrix, without normalization')\n",
    "\n",
    "    print(cm)\n",
    "\n",
    "    thresh = cm.max() / 2.\n",
    "    for i, j in itertools.product(range(cm.shape[0]), range(cm.shape[1])):\n",
    "        plt.text(j, i, cm[i, j],\n",
    "            horizontalalignment=\"center\",\n",
    "            color=\"white\" if cm[i, j] > thresh else \"black\")\n",
    "\n",
    "    plt.tight_layout()\n",
    "    plt.ylabel('True label')\n",
    "    plt.xlabel('Predicted label')"
   ]
  },
  {
   "cell_type": "code",
   "execution_count": null,
   "id": "1ea0a47d",
   "metadata": {},
   "outputs": [],
   "source": [
    "# os.chdir('E:\\OculoGuard_Mobile_app-main\\Backend\\Model 02\\Data')\n",
    "# if os.path.isdir('\\Data') is False: \n",
    "#     os.mkdir('train')\n",
    "# #     os.mkdir('valid')\n",
    "#     os.mkdir('test')\n",
    "#     filenames = [\"DR\",\"Glaucoma_Positive\",\"Macular_Edema\",\"Normal\"]\n",
    "#     for i in filenames:\n",
    "#         shutil.move(f'{i}', 'train')\n",
    "# #         os.mkdir(f'valid/{i}')\n",
    "#         os.mkdir(f'test/{i}')\n",
    "\n",
    "# #         valid_samples = random.sample(os.listdir(f'train/{i}'), int(len(os.listdir(f'train/{i}'))*0.2))\n",
    "# #         for j in valid_samples:\n",
    "# #             shutil.move(f'train/{i}/{j}', f'valid/{i}')\n",
    "\n",
    "#         test_samples = random.sample(os.listdir(f'train/{i}'), int(len(os.listdir(f'train/{i}'))*0.3))\n",
    "#         for k in test_samples:\n",
    "#             shutil.move(f'train/{i}/{k}', f'test/{i}')\n",
    "# os.chdir('..')"
   ]
  },
  {
   "cell_type": "code",
   "execution_count": null,
   "id": "4d5e90d1",
   "metadata": {},
   "outputs": [],
   "source": [
    "train_path = 'E:/OculoGuard_Mobile_app-main/Backend/Model 02/Data/train'\n",
    "# valid_path = 'E:\\leaf-disease-classification-main\\Research - noise\\Dataset/valid'\n",
    "test_path = 'E:/OculoGuard_Mobile_app-main/Backend/Model 02/Data/test'\n",
    "\n",
    "# train_batches = ImageDataGenerator(\n",
    "#                                   preprocessing_function=tf.keras.applications.mobilenet.preprocess_input,\n",
    "#                                   rotation_range=10, \n",
    "#                                   width_shift_range=0.1, \n",
    "#                                   height_shift_range=0.1, \n",
    "#                                   shear_range=0.15, \n",
    "#                                   zoom_range=0.1, \n",
    "#                                   channel_shift_range=10., \n",
    "#                                   horizontal_flip=True\n",
    "#                                   ).flow_from_directory(\n",
    "#                                                        directory=train_path, \n",
    "#                                                        target_size=(224,224),\n",
    "#                                                        batch_size=16\n",
    "#                                                       )\n",
    "\n",
    "train_batches = ImageDataGenerator(preprocessing_function=tf.keras.applications.mobilenet.preprocess_input).flow_from_directory(\n",
    "    directory=train_path, target_size=(224,224), batch_size=1000 )\n",
    "\n",
    "# valid_batches = ImageDataGenerator(preprocessing_function=tf.keras.applications.mobilenet.preprocess_input).flow_from_directory(\n",
    "#     directory=valid_path, target_size=(224,224), batch_size=795 )\n",
    "    \n",
    "test_batches = ImageDataGenerator(preprocessing_function=tf.keras.applications.mobilenet.preprocess_input).flow_from_directory(\n",
    "    directory=test_path, target_size=(224,224), batch_size=1248 , shuffle=False)"
   ]
  },
  {
   "cell_type": "code",
   "execution_count": null,
   "id": "60966370",
   "metadata": {},
   "outputs": [],
   "source": [
    "train_batches.class_indices"
   ]
  },
  {
   "cell_type": "code",
   "execution_count": null,
   "id": "39bf1d94",
   "metadata": {},
   "outputs": [],
   "source": [
    "mobile = tf.keras.applications.mobilenet.MobileNet()\n",
    "mobile.summary()\n",
    "print(len(mobile.layers))"
   ]
  },
  {
   "cell_type": "code",
   "execution_count": null,
   "id": "0aec2ca5",
   "metadata": {},
   "outputs": [],
   "source": [
    "x = mobile.layers[-6].output\n",
    "\n",
    "GVP =  tf.keras.layers.GlobalAveragePooling2D()(x)\n",
    "output = Dense(units=4, activation='softmax')(GVP)\n",
    "\n",
    "model_1 = Model(inputs=mobile.input, outputs=output)\n",
    "\n",
    "model_2 = Model(inputs=mobile.input, outputs=output)\n",
    "\n",
    "for layer in model_1.layers[:-23]:\n",
    "    layer.trainable = False\n",
    "\n",
    "for layer in model_2.layers[:-23]:\n",
    "    layer.trainable = False\n",
    "    \n",
    "model_1.summary() \n",
    "print(len(model_1.layers))"
   ]
  },
  {
   "cell_type": "code",
   "execution_count": null,
   "id": "52c0bf6b",
   "metadata": {},
   "outputs": [],
   "source": [
    "## ======================================================================\n",
    "#        Train with the Noised set and noised validation and Test\n",
    "#======================================================================\n",
    "tf.random.set_seed(959)\n",
    "class_weight = {0: 1/5,\n",
    "                1: 1,\n",
    "                2: 2,\n",
    "                3: 1/5}\n",
    "model_1.compile(optimizer=Adam(lr=0.00003), loss='categorical_crossentropy', metrics=['accuracy'])\n",
    "history = model_1.fit(\n",
    "    train_batches, \n",
    "    epochs=40, \n",
    "    steps_per_epoch=len(train_batches), \n",
    "    validation_data = test_batches,\n",
    "    verbose = 1,\n",
    "    validation_steps=len(test_batches),\n",
    "    class_weight=class_weight)\n",
    "\n",
    "model_1.save('models/model.h5')"
   ]
  },
  {
   "cell_type": "code",
   "execution_count": null,
   "id": "b7dfdba7",
   "metadata": {},
   "outputs": [],
   "source": [
    "# summarize history for accuracy\n",
    "plt.plot(history.history['accuracy'])\n",
    "plt.plot(history.history['val_accuracy'])\n",
    "plt.title('model accuracy')\n",
    "plt.ylabel('accuracy')\n",
    "plt.xlabel('epoch')\n",
    "plt.legend(['train', 'valid'], loc='upper left')\n",
    "plt.show()\n",
    "\n",
    "# summarize history for loss\n",
    "plt.plot(history.history['loss'])\n",
    "plt.plot(history.history['val_loss'])\n",
    "plt.title('model loss')\n",
    "plt.ylabel('loss')\n",
    "plt.xlabel('epoch')\n",
    "plt.legend(['train', 'valid'], loc='upper left')\n",
    "plt.show()"
   ]
  },
  {
   "cell_type": "code",
   "execution_count": null,
   "id": "c10c344d",
   "metadata": {},
   "outputs": [],
   "source": [
    "#model = load_model('models/model.h5')\n",
    "\n",
    "test_labels = test_batches.classes\n",
    "predictions = model_1.predict(x=test_batches, steps=len(test_batches), verbose=1)\n",
    "cm = confusion_matrix(y_true=test_labels, y_pred=predictions.argmax(axis=1))"
   ]
  },
  {
   "cell_type": "code",
   "execution_count": null,
   "id": "966ea94d",
   "metadata": {},
   "outputs": [],
   "source": [
    "train_batches.class_indices"
   ]
  },
  {
   "cell_type": "code",
   "execution_count": null,
   "id": "5278041a",
   "metadata": {},
   "outputs": [],
   "source": [
    "y_pred_bool = np.argmax(predictions, axis=1)\n",
    "\n",
    "print(classification_report(test_labels, y_pred_bool))"
   ]
  },
  {
   "cell_type": "code",
   "execution_count": null,
   "id": "aa599191",
   "metadata": {},
   "outputs": [],
   "source": [
    "test_batches.class_indices\n",
    "\n",
    "cm_plot_labels = [i for i in train_batches.class_indices]\n",
    "plot_confusion_matrix(cm=cm, classes=cm_plot_labels, title='Confusion Matrix')"
   ]
  },
  {
   "cell_type": "code",
   "execution_count": null,
   "id": "cc73c326",
   "metadata": {},
   "outputs": [],
   "source": [
    "model_1.save('models/model_final.h5')"
   ]
  },
  {
   "cell_type": "code",
   "execution_count": null,
   "id": "35d5b0cf",
   "metadata": {},
   "outputs": [],
   "source": [
    "plt.hist(y_pred_bool, bins = 7)\n",
    "plt.show()"
   ]
  },
  {
   "cell_type": "code",
   "execution_count": null,
   "id": "d1c6b39d",
   "metadata": {},
   "outputs": [],
   "source": [
    "root = tk.Tk()\n",
    "root.withdraw()\n",
    "img_path = filedialog.askopenfilename()"
   ]
  },
  {
   "cell_type": "code",
   "execution_count": null,
   "id": "0236adfe",
   "metadata": {},
   "outputs": [],
   "source": [
    "img = image.load_img(img_path, target_size=(224, 224))\n",
    "x = image.img_to_array(img)\n",
    "x = np.expand_dims(x, axis=0)\n",
    "x = preprocess_input(x)\n",
    "print('Input image shape:', x.shape)"
   ]
  },
  {
   "cell_type": "code",
   "execution_count": null,
   "id": "b9ba47a4",
   "metadata": {},
   "outputs": [],
   "source": [
    "x = tf.keras.applications.mobilenet.preprocess_input(x)\n",
    "pr=model_1.predict(x)\n",
    "pr1=np.argmax(pr)\n",
    "print('\\n\\n\\nResult=',pr1)"
   ]
  },
  {
   "cell_type": "code",
   "execution_count": null,
   "id": "ba49a00e",
   "metadata": {},
   "outputs": [],
   "source": [
    "pr"
   ]
  }
 ],
 "metadata": {
  "kernelspec": {
   "display_name": "Python 3 (ipykernel)",
   "language": "python",
   "name": "python3"
  },
  "language_info": {
   "codemirror_mode": {
    "name": "ipython",
    "version": 3
   },
   "file_extension": ".py",
   "mimetype": "text/x-python",
   "name": "python",
   "nbconvert_exporter": "python",
   "pygments_lexer": "ipython3",
   "version": "3.8.10"
  }
 },
 "nbformat": 4,
 "nbformat_minor": 5
}
